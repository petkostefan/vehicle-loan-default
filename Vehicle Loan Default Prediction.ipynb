{
 "cells": [
  {
   "cell_type": "code",
   "execution_count": 72,
   "id": "7862e7d8",
   "metadata": {},
   "outputs": [],
   "source": [
    "import pandas as pd\n",
    "import numpy as np\n",
    "import matplotlib.pyplot as plt\n",
    "import seaborn as sns"
   ]
  },
  {
   "cell_type": "markdown",
   "id": "2cebb7aa",
   "metadata": {},
   "source": [
    "# Load and prepare data"
   ]
  },
  {
   "cell_type": "code",
   "execution_count": 73,
   "id": "cc3f65d3",
   "metadata": {},
   "outputs": [],
   "source": [
    "df = pd.read_csv('data/train.csv')"
   ]
  },
  {
   "cell_type": "code",
   "execution_count": 74,
   "id": "90b999ba",
   "metadata": {},
   "outputs": [
    {
     "name": "stdout",
     "output_type": "stream",
     "text": [
      "<class 'pandas.core.frame.DataFrame'>\n",
      "RangeIndex: 233154 entries, 0 to 233153\n",
      "Data columns (total 41 columns):\n",
      " #   Column                               Non-Null Count   Dtype  \n",
      "---  ------                               --------------   -----  \n",
      " 0   UniqueID                             233154 non-null  int64  \n",
      " 1   disbursed_amount                     233154 non-null  int64  \n",
      " 2   asset_cost                           233154 non-null  int64  \n",
      " 3   ltv                                  233154 non-null  float64\n",
      " 4   branch_id                            233154 non-null  int64  \n",
      " 5   supplier_id                          233154 non-null  int64  \n",
      " 6   manufacturer_id                      233154 non-null  int64  \n",
      " 7   Current_pincode_ID                   233154 non-null  int64  \n",
      " 8   Date.of.Birth                        233154 non-null  object \n",
      " 9   Employment.Type                      225493 non-null  object \n",
      " 10  DisbursalDate                        233154 non-null  object \n",
      " 11  State_ID                             233154 non-null  int64  \n",
      " 12  Employee_code_ID                     233154 non-null  int64  \n",
      " 13  MobileNo_Avl_Flag                    233154 non-null  int64  \n",
      " 14  Aadhar_flag                          233154 non-null  int64  \n",
      " 15  PAN_flag                             233154 non-null  int64  \n",
      " 16  VoterID_flag                         233154 non-null  int64  \n",
      " 17  Driving_flag                         233154 non-null  int64  \n",
      " 18  Passport_flag                        233154 non-null  int64  \n",
      " 19  PERFORM_CNS.SCORE                    233154 non-null  int64  \n",
      " 20  PERFORM_CNS.SCORE.DESCRIPTION        233154 non-null  object \n",
      " 21  PRI.NO.OF.ACCTS                      233154 non-null  int64  \n",
      " 22  PRI.ACTIVE.ACCTS                     233154 non-null  int64  \n",
      " 23  PRI.OVERDUE.ACCTS                    233154 non-null  int64  \n",
      " 24  PRI.CURRENT.BALANCE                  233154 non-null  int64  \n",
      " 25  PRI.SANCTIONED.AMOUNT                233154 non-null  int64  \n",
      " 26  PRI.DISBURSED.AMOUNT                 233154 non-null  int64  \n",
      " 27  SEC.NO.OF.ACCTS                      233154 non-null  int64  \n",
      " 28  SEC.ACTIVE.ACCTS                     233154 non-null  int64  \n",
      " 29  SEC.OVERDUE.ACCTS                    233154 non-null  int64  \n",
      " 30  SEC.CURRENT.BALANCE                  233154 non-null  int64  \n",
      " 31  SEC.SANCTIONED.AMOUNT                233154 non-null  int64  \n",
      " 32  SEC.DISBURSED.AMOUNT                 233154 non-null  int64  \n",
      " 33  PRIMARY.INSTAL.AMT                   233154 non-null  int64  \n",
      " 34  SEC.INSTAL.AMT                       233154 non-null  int64  \n",
      " 35  NEW.ACCTS.IN.LAST.SIX.MONTHS         233154 non-null  int64  \n",
      " 36  DELINQUENT.ACCTS.IN.LAST.SIX.MONTHS  233154 non-null  int64  \n",
      " 37  AVERAGE.ACCT.AGE                     233154 non-null  object \n",
      " 38  CREDIT.HISTORY.LENGTH                233154 non-null  object \n",
      " 39  NO.OF_INQUIRIES                      233154 non-null  int64  \n",
      " 40  loan_default                         233154 non-null  int64  \n",
      "dtypes: float64(1), int64(34), object(6)\n",
      "memory usage: 72.9+ MB\n"
     ]
    }
   ],
   "source": [
    "df.info()"
   ]
  },
  {
   "cell_type": "markdown",
   "id": "272f1780",
   "metadata": {},
   "source": [
    "We are dropping the columns which have no context (ID columns), no variability (MobileNo_Avl_Flag) and are outdated (DisbursalDate)."
   ]
  },
  {
   "cell_type": "code",
   "execution_count": 75,
   "id": "6ff9f4cb",
   "metadata": {},
   "outputs": [],
   "source": [
    "df=df.drop(['UniqueID', 'branch_id','supplier_id', 'Current_pincode_ID','State_ID', 'Employee_code_ID', 'MobileNo_Avl_Flag', 'DisbursalDate'],axis=1)"
   ]
  },
  {
   "cell_type": "code",
   "execution_count": 76,
   "id": "746586b1",
   "metadata": {},
   "outputs": [
    {
     "data": {
      "text/plain": [
       "disbursed_amount                          0\n",
       "asset_cost                                0\n",
       "ltv                                       0\n",
       "manufacturer_id                           0\n",
       "Date.of.Birth                             0\n",
       "Employment.Type                        7661\n",
       "Aadhar_flag                               0\n",
       "PAN_flag                                  0\n",
       "VoterID_flag                              0\n",
       "Driving_flag                              0\n",
       "Passport_flag                             0\n",
       "PERFORM_CNS.SCORE                         0\n",
       "PERFORM_CNS.SCORE.DESCRIPTION             0\n",
       "PRI.NO.OF.ACCTS                           0\n",
       "PRI.ACTIVE.ACCTS                          0\n",
       "PRI.OVERDUE.ACCTS                         0\n",
       "PRI.CURRENT.BALANCE                       0\n",
       "PRI.SANCTIONED.AMOUNT                     0\n",
       "PRI.DISBURSED.AMOUNT                      0\n",
       "SEC.NO.OF.ACCTS                           0\n",
       "SEC.ACTIVE.ACCTS                          0\n",
       "SEC.OVERDUE.ACCTS                         0\n",
       "SEC.CURRENT.BALANCE                       0\n",
       "SEC.SANCTIONED.AMOUNT                     0\n",
       "SEC.DISBURSED.AMOUNT                      0\n",
       "PRIMARY.INSTAL.AMT                        0\n",
       "SEC.INSTAL.AMT                            0\n",
       "NEW.ACCTS.IN.LAST.SIX.MONTHS              0\n",
       "DELINQUENT.ACCTS.IN.LAST.SIX.MONTHS       0\n",
       "AVERAGE.ACCT.AGE                          0\n",
       "CREDIT.HISTORY.LENGTH                     0\n",
       "NO.OF_INQUIRIES                           0\n",
       "loan_default                              0\n",
       "dtype: int64"
      ]
     },
     "execution_count": 76,
     "metadata": {},
     "output_type": "execute_result"
    }
   ],
   "source": [
    "df.isna().sum()"
   ]
  },
  {
   "cell_type": "code",
   "execution_count": 77,
   "id": "19347884",
   "metadata": {},
   "outputs": [
    {
     "data": {
      "text/plain": [
       "Self employed    127635\n",
       "Salaried          97858\n",
       "Name: Employment.Type, dtype: int64"
      ]
     },
     "execution_count": 77,
     "metadata": {},
     "output_type": "execute_result"
    }
   ],
   "source": [
    "df['Employment.Type'].value_counts()"
   ]
  },
  {
   "cell_type": "markdown",
   "id": "9398899c",
   "metadata": {},
   "source": [
    "Replacing na values with most frequent one."
   ]
  },
  {
   "cell_type": "code",
   "execution_count": 78,
   "id": "3f6e6c26",
   "metadata": {},
   "outputs": [],
   "source": [
    "df['Employment.Type'] = df['Employment.Type'].fillna('Self employed')"
   ]
  },
  {
   "cell_type": "markdown",
   "id": "e035c92a",
   "metadata": {},
   "source": [
    "# Feature engineering"
   ]
  },
  {
   "cell_type": "code",
   "execution_count": 79,
   "id": "7e384849",
   "metadata": {},
   "outputs": [
    {
     "data": {
      "text/plain": [
       "array(['No Bureau History Available', 'I-Medium Risk', 'L-Very High Risk',\n",
       "       'A-Very Low Risk',\n",
       "       'Not Scored: Not Enough Info available on the customer',\n",
       "       'D-Very Low Risk', 'M-Very High Risk', 'B-Very Low Risk',\n",
       "       'C-Very Low Risk', 'E-Low Risk', 'H-Medium Risk', 'F-Low Risk',\n",
       "       'K-High Risk',\n",
       "       'Not Scored: No Activity seen on the customer (Inactive)',\n",
       "       'Not Scored: Sufficient History Not Available',\n",
       "       'Not Scored: No Updates available in last 36 months', 'G-Low Risk',\n",
       "       'J-High Risk', 'Not Scored: Only a Guarantor',\n",
       "       'Not Scored: More than 50 active Accounts found'], dtype=object)"
      ]
     },
     "execution_count": 79,
     "metadata": {},
     "output_type": "execute_result"
    }
   ],
   "source": [
    "df['PERFORM_CNS.SCORE.DESCRIPTION'].unique()"
   ]
  },
  {
   "cell_type": "markdown",
   "id": "23297381",
   "metadata": {},
   "source": [
    "Creating variable Credit Risk from the grade in the string and maping it to numerical values."
   ]
  },
  {
   "cell_type": "code",
   "execution_count": 80,
   "id": "e530dbf1",
   "metadata": {},
   "outputs": [],
   "source": [
    "def credit_risk(df):\n",
    "    d=[]\n",
    "    for i in df:\n",
    "        p = i.split(\"-\")\n",
    "        if len(p) == 1:\n",
    "            d.append('unknown')\n",
    "        else:\n",
    "            d.append(p[0])\n",
    "\n",
    "    return d\n",
    "\n",
    "sub_risk = {'unknown':-1, 'A':13, 'B':12, 'C':11,'D':10,'E':9,'F':8,'G':7,'H':6,'I':5,'J':4,'K':3, 'L':2,'M':1}\n",
    "employment_map = {'Self employed':0, 'Salaried':1,np.nan:2}\n",
    "\n",
    "df.loc[:,'credit_risk_grade']  = credit_risk(df[\"PERFORM_CNS.SCORE.DESCRIPTION\"])\n",
    "df.loc[:,'Credit Risk'] = df['credit_risk_grade'].apply(lambda x: sub_risk[x])\n",
    "\n",
    "df.loc[:,'Employment Type'] = df['Employment.Type'].apply(lambda x: employment_map[x])\n",
    "\n",
    "df=df.drop(['PERFORM_CNS.SCORE.DESCRIPTION', 'credit_risk_grade','Employment.Type'],axis=1)"
   ]
  },
  {
   "cell_type": "markdown",
   "id": "db131da7",
   "metadata": {},
   "source": [
    "Creating Age variable from Date of birth."
   ]
  },
  {
   "cell_type": "code",
   "execution_count": 81,
   "id": "25bfbfa8",
   "metadata": {},
   "outputs": [],
   "source": [
    "from datetime import date\n",
    "year = date.today().year\n",
    "\n",
    "df['Date.of.Birth']= pd.to_datetime(df['Date.of.Birth'])\n",
    "ageArr = []\n",
    "for x in df['Date.of.Birth']:\n",
    "  badAge = year-int(str(x)[:4])\n",
    "  age = badAge if badAge >= 0 else badAge+100\n",
    "  ageArr.append(age)\n",
    "  \n",
    "df['Age'] = ageArr"
   ]
  },
  {
   "cell_type": "code",
   "execution_count": 82,
   "id": "8d1407fe",
   "metadata": {},
   "outputs": [],
   "source": [
    "df=df.drop(['Date.of.Birth'],axis=1)"
   ]
  },
  {
   "cell_type": "code",
   "execution_count": 83,
   "id": "c1252114",
   "metadata": {},
   "outputs": [],
   "source": [
    "def duration(dur):\n",
    "  yrs=int(dur.split(' ')[0].replace('yrs',''))\n",
    "  mon=int(dur.split(' ')[1].replace('mon',''))\n",
    "  return yrs*12+mon\n",
    "\n",
    "df['AVERAGE.ACCT.AGE']=df['AVERAGE.ACCT.AGE'].apply(duration)\n",
    "df['CREDIT.HISTORY.LENGTH']=df['CREDIT.HISTORY.LENGTH'].apply(duration)"
   ]
  },
  {
   "cell_type": "code",
   "execution_count": 84,
   "id": "885941c1",
   "metadata": {},
   "outputs": [],
   "source": [
    "df['Missing Features'] = (df == 0).astype(int).sum(axis=1)"
   ]
  },
  {
   "cell_type": "markdown",
   "id": "3506675f",
   "metadata": {},
   "source": [
    "When we look at people who have a class value of 0 - we have those who have a value of 0 because they don't actually have a credit history, that is, we don't even have most of the data for them, and those who have a credit history, but they haven't defaulted and that's why we have 0. We introduce this attribute in order to helped the model differentiate those two groups of people."
   ]
  },
  {
   "cell_type": "code",
   "execution_count": 132,
   "id": "93e4193f",
   "metadata": {
    "scrolled": true
   },
   "outputs": [
    {
     "data": {
      "image/png": "[encoded data removed]",
      "text/plain": [
       "<Figure size 720x1080 with 1 Axes>"
      ]
     },
     "metadata": {
      "needs_background": "light"
     },
     "output_type": "display_data"
    }
   ],
   "source": [
    "X=df.drop('loan_default',axis=1)\n",
    "y=df['loan_default']\n",
    "\n",
    "from sklearn.feature_selection import SelectKBest,f_classif\n",
    "\n",
    "selection=SelectKBest(k=10, score_func=f_classif)\n",
    "selection.fit(X,y)\n",
    "selection.get_support()\n",
    "\n",
    "coefs=pd.DataFrame({'att':X.columns,'coef':f_classif(X,y)[0]}).sort_values(by='coef',ascending=True)\n",
    "_ = coefs.plot.barh(x='att',y='coef',figsize=(10,15))"
   ]
  },
  {
   "cell_type": "markdown",
   "id": "6d3fb9d2",
   "metadata": {},
   "source": [
    "We can see that all of the secondary account data are bad predictors, so we will then combine them together with the primary account information."
   ]
  },
  {
   "cell_type": "code",
   "execution_count": 86,
   "id": "bcc292c6",
   "metadata": {},
   "outputs": [],
   "source": [
    "df.loc[:,'No of Accounts'] = df['PRI.NO.OF.ACCTS'] + df['SEC.NO.OF.ACCTS']\n",
    "df.loc[:,'Active Accounts'] = df['PRI.ACTIVE.ACCTS'] + df['SEC.ACTIVE.ACCTS']\n",
    "df.loc[:,'Total Overdue Accounts'] =df['PRI.OVERDUE.ACCTS'] + df['SEC.OVERDUE.ACCTS']\n",
    "df.loc[:,'Total Current Balance'] = df['PRI.CURRENT.BALANCE'] + df['SEC.CURRENT.BALANCE']\n",
    "df.loc[:,'Total Sanctioned Amount'] = df['PRI.SANCTIONED.AMOUNT'] + df['SEC.SANCTIONED.AMOUNT']\n",
    "df.loc[:,'Total Disbursed Amount'] = df['PRI.DISBURSED.AMOUNT'] + df['SEC.DISBURSED.AMOUNT']\n",
    "df.loc[:,'Total Installment'] = df['PRIMARY.INSTAL.AMT'] + df['SEC.INSTAL.AMT']"
   ]
  },
  {
   "cell_type": "code",
   "execution_count": 87,
   "id": "3d34978f",
   "metadata": {},
   "outputs": [],
   "source": [
    "df=df.drop(['PRI.NO.OF.ACCTS','SEC.NO.OF.ACCTS','PRI.ACTIVE.ACCTS','SEC.ACTIVE.ACCTS',\n",
    "            'PRI.OVERDUE.ACCTS','SEC.OVERDUE.ACCTS','PRI.CURRENT.BALANCE', 'SEC.CURRENT.BALANCE',\n",
    "            'PRI.SANCTIONED.AMOUNT','SEC.SANCTIONED.AMOUNT','PRI.DISBURSED.AMOUNT','SEC.DISBURSED.AMOUNT',\n",
    "            'PRIMARY.INSTAL.AMT','SEC.INSTAL.AMT','Passport_flag','Driving_flag','PAN_flag'],axis=1)"
   ]
  },
  {
   "cell_type": "code",
   "execution_count": 88,
   "id": "793699c0",
   "metadata": {},
   "outputs": [
    {
     "data": {
      "image/png": "[encoded data removed]",
      "text/plain": [
       "<Figure size 720x1080 with 1 Axes>"
      ]
     },
     "metadata": {
      "needs_background": "light"
     },
     "output_type": "display_data"
    }
   ],
   "source": [
    "X=df.drop('loan_default',axis=1)\n",
    "y=df['loan_default']\n",
    "coefs=pd.DataFrame({'att':X.columns,'coef':f_classif(X,y)[0]}).sort_values(by='coef',ascending=True)\n",
    "_ = coefs.plot.barh(x='att',y='coef',figsize=(10,15))"
   ]
  },
  {
   "cell_type": "markdown",
   "id": "5bb31952",
   "metadata": {},
   "source": [
    "Droping Total Disbursed Amount beacuse disbursed_amount is a better predictor."
   ]
  },
  {
   "cell_type": "code",
   "execution_count": 89,
   "id": "fb536568",
   "metadata": {},
   "outputs": [],
   "source": [
    "df = df.drop(['Total Disbursed Amount'],axis=1)"
   ]
  },
  {
   "cell_type": "code",
   "execution_count": 90,
   "id": "630bb344",
   "metadata": {},
   "outputs": [],
   "source": [
    "nums=['asset_cost', 'ltv','PERFORM_CNS.SCORE',\n",
    "       'NEW.ACCTS.IN.LAST.SIX.MONTHS', 'DELINQUENT.ACCTS.IN.LAST.SIX.MONTHS',\n",
    "       'AVERAGE.ACCT.AGE', 'CREDIT.HISTORY.LENGTH', 'NO.OF_INQUIRIES','No of Accounts',\n",
    "       'Total Overdue Accounts', 'Total Current Balance', 'Total Sanctioned Amount', 'Total Installment','Age']"
   ]
  },
  {
   "cell_type": "code",
   "execution_count": 91,
   "id": "0830b468",
   "metadata": {},
   "outputs": [],
   "source": [
    "from sklearn.preprocessing import  RobustScaler\n",
    "rob_scaler = RobustScaler()\n",
    "\n",
    "df[nums] = rob_scaler.fit_transform(df[nums])"
   ]
  },
  {
   "cell_type": "markdown",
   "id": "0c89b65c",
   "metadata": {},
   "source": [
    "# Training and optimizing models"
   ]
  },
  {
   "cell_type": "code",
   "execution_count": 92,
   "id": "4e40c063",
   "metadata": {},
   "outputs": [],
   "source": [
    "from sklearn.model_selection import train_test_split\n",
    "X=df.drop('loan_default',axis=1)\n",
    "y=df['loan_default']\n",
    "y=y.astype('int')\n",
    "X, X_test, y, y_test = train_test_split(X, y, test_size=0.3, random_state=2022)\n",
    "\n",
    "model_dr=DecisionTreeClassifier(max_depth=3)\n",
    "model_nb=GaussianNB()\n",
    "model_lr = LogisticRegression(solver='liblinear',C=0.1)"
   ]
  },
  {
   "cell_type": "code",
   "execution_count": 93,
   "id": "a6bb4dea",
   "metadata": {},
   "outputs": [],
   "source": [
    "from sklearn.tree import DecisionTreeClassifier\n",
    "from sklearn.naive_bayes import GaussianNB\n",
    "from sklearn.model_selection import cross_val_score\n",
    "from sklearn.metrics import (accuracy_score, confusion_matrix, ConfusionMatrixDisplay, precision_score, recall_score, f1_score, roc_curve)"
   ]
  },
  {
   "cell_type": "code",
   "execution_count": 94,
   "id": "a3c63301",
   "metadata": {},
   "outputs": [
    {
     "data": {
      "text/plain": [
       "0.7802907915993538"
      ]
     },
     "execution_count": 94,
     "metadata": {},
     "output_type": "execute_result"
    }
   ],
   "source": [
    "modelnb=model_nb.fit(X,y)\n",
    "accuracy_score(y_test,modelnb.predict(X_test))"
   ]
  },
  {
   "cell_type": "code",
   "execution_count": 97,
   "id": "cffd78fb",
   "metadata": {
    "scrolled": true
   },
   "outputs": [
    {
     "data": {
      "text/plain": [
       "0.9057715127167713"
      ]
     },
     "execution_count": 97,
     "metadata": {},
     "output_type": "execute_result"
    }
   ],
   "source": [
    "tree1 = DecisionTreeClassifier()\n",
    "tree1.fit(X,y)\n",
    "accuracy_score(y_test,tree1.predict(X_test))"
   ]
  },
  {
   "cell_type": "code",
   "execution_count": 98,
   "id": "f86c50a4",
   "metadata": {},
   "outputs": [
    {
     "name": "stdout",
     "output_type": "stream",
     "text": [
      "0.9023142628857805\n"
     ]
    }
   ],
   "source": [
    "tree1 = DecisionTreeClassifier()\n",
    "print(cross_val_score(tree1, X,y, cv=10, scoring='accuracy').mean())"
   ]
  },
  {
   "cell_type": "markdown",
   "id": "479c28d5",
   "metadata": {},
   "source": [
    "We use grid search to find optimal model parameters"
   ]
  },
  {
   "cell_type": "code",
   "execution_count": 99,
   "id": "a6515c99",
   "metadata": {},
   "outputs": [
    {
     "name": "stdout",
     "output_type": "stream",
     "text": [
      "Best param:  {'max_depth': 25, 'max_features': 17, 'min_samples_leaf': 21}\n"
     ]
    }
   ],
   "source": [
    "from sklearn.model_selection import GridSearchCV\n",
    "\n",
    "tree = DecisionTreeClassifier()\n",
    "parameters = {'max_features': [15, 16, 17], 'min_samples_leaf': [21, 23, 25, 27, 29, 31],'max_depth': [23,25,27,29,31]} \n",
    "grid = GridSearchCV(tree, parameters, cv=5, scoring='accuracy') \n",
    "grid.fit(X,y)\n",
    "print('Best param: ', grid.best_params_) "
   ]
  },
  {
   "cell_type": "code",
   "execution_count": 116,
   "id": "be9705ab",
   "metadata": {},
   "outputs": [
    {
     "data": {
      "text/plain": [
       "0.9090740131814088"
      ]
     },
     "execution_count": 116,
     "metadata": {},
     "output_type": "execute_result"
    }
   ],
   "source": [
    "tree1 = DecisionTreeClassifier(max_features=17, min_samples_leaf=21, max_depth=25)\n",
    "modeltr1=tree1.fit(X,y)\n",
    "accuracy_score(y_test,tree1.predict(X_test))"
   ]
  },
  {
   "cell_type": "code",
   "execution_count": 117,
   "id": "1784002b",
   "metadata": {},
   "outputs": [
    {
     "data": {
      "text/plain": [
       "0.9193103349679043"
      ]
     },
     "execution_count": 117,
     "metadata": {},
     "output_type": "execute_result"
    }
   ],
   "source": [
    "from sklearn.ensemble import BaggingClassifier\n",
    "\n",
    "model_bagging = BaggingClassifier(base_estimator=tree1, n_estimators=10)\n",
    "model_bagging.fit(X,y)\n",
    "predictionBagging = model_bagging.predict(X_test)\n",
    "accuracy_score(y_test,predictionBagging)"
   ]
  },
  {
   "cell_type": "code",
   "execution_count": 118,
   "id": "d6eb5b71",
   "metadata": {},
   "outputs": [
    {
     "data": {
      "text/plain": [
       "0.9027978326447167"
      ]
     },
     "execution_count": 118,
     "metadata": {},
     "output_type": "execute_result"
    }
   ],
   "source": [
    "from sklearn.ensemble import AdaBoostClassifier\n",
    "model_boost = AdaBoostClassifier(base_estimator=modeltr1, n_estimators=10, learning_rate=0.5)\n",
    "model_boost.fit(X,y)\n",
    "accuracy_score(y_test,model_boost.predict(X_test))"
   ]
  },
  {
   "cell_type": "code",
   "execution_count": 119,
   "id": "5747ea54",
   "metadata": {},
   "outputs": [
    {
     "data": {
      "text/plain": [
       "0.8761633808454973"
      ]
     },
     "execution_count": 119,
     "metadata": {},
     "output_type": "execute_result"
    }
   ],
   "source": [
    "from sklearn.ensemble import RandomForestClassifier\n",
    "forest = RandomForestClassifier(n_estimators=5)\n",
    "forest.fit(X,y)\n",
    "accuracy_score(y_test,forest.predict(X_test))"
   ]
  },
  {
   "cell_type": "code",
   "execution_count": 120,
   "id": "d47ec180",
   "metadata": {},
   "outputs": [
    {
     "data": {
      "text/plain": [
       "'Additional metrics: 79.33% precision, 84.71% recall i 81.93% F1'"
      ]
     },
     "execution_count": 120,
     "metadata": {},
     "output_type": "execute_result"
    }
   ],
   "source": [
    "prec = precision_score(y_test, predictionBagging)\n",
    "rec = recall_score(y_test, predictionBagging)\n",
    "f1 = f1_score(y_test, predictionBagging)\n",
    "f'Additional metrics: {np.round(prec * 100, 2)}% precision, {np.round(rec * 100, 2)}% recall i {np.round(f1 * 100, 2)}% F1'"
   ]
  },
  {
   "cell_type": "markdown",
   "id": "b77d6c44",
   "metadata": {},
   "source": [
    "# Prediction optimization"
   ]
  },
  {
   "cell_type": "markdown",
   "id": "5d14834a",
   "metadata": {},
   "source": [
    "Bagging clasifier gives us the best results, we will now optimize predictions for our problem.\n",
    "Using the cost matrix, we will determine the cost of our model's mistakes. It is better if we don't approve a loan for a customer who would repay it, than if we approve a loan for a customer who wouldn't."
   ]
  },
  {
   "cell_type": "code",
   "execution_count": 121,
   "id": "de277726",
   "metadata": {},
   "outputs": [
    {
     "data": {
      "text/plain": [
       "array([[51507,  3334],\n",
       "       [ 2310, 12796]], dtype=int64)"
      ]
     },
     "execution_count": 121,
     "metadata": {},
     "output_type": "execute_result"
    }
   ],
   "source": [
    "confusion_matrix(y_true=y_test, y_pred=predictionBagging)"
   ]
  },
  {
   "cell_type": "code",
   "execution_count": 122,
   "id": "8f73ce67",
   "metadata": {},
   "outputs": [],
   "source": [
    "costs = np.array([[0, 1], [5, 0]])"
   ]
  },
  {
   "cell_type": "code",
   "execution_count": 123,
   "id": "09cabb41",
   "metadata": {},
   "outputs": [
    {
     "data": {
      "text/plain": [
       "array([[    0,  3334],\n",
       "       [11550,     0]], dtype=int64)"
      ]
     },
     "execution_count": 123,
     "metadata": {},
     "output_type": "execute_result"
    }
   ],
   "source": [
    "confusion_matrix(y_test,predictionBagging)* costs"
   ]
  },
  {
   "cell_type": "code",
   "execution_count": 124,
   "id": "c8bb32ea",
   "metadata": {},
   "outputs": [
    {
     "data": {
      "text/plain": [
       "14884"
      ]
     },
     "execution_count": 124,
     "metadata": {},
     "output_type": "execute_result"
    }
   ],
   "source": [
    "(confusion_matrix(y_test,predictionBagging)* costs).sum()"
   ]
  },
  {
   "cell_type": "code",
   "execution_count": 125,
   "id": "0737e61c",
   "metadata": {},
   "outputs": [],
   "source": [
    "probas = model_bagging.predict_proba(X_test)\n",
    "pred_proba = probas[:, 1]"
   ]
  },
  {
   "cell_type": "code",
   "execution_count": 126,
   "id": "7a6f8fae",
   "metadata": {},
   "outputs": [
    {
     "data": {
      "image/png": "[encoded data removed]",
      "text/plain": [
       "<Figure size 432x288 with 1 Axes>"
      ]
     },
     "metadata": {
      "needs_background": "light"
     },
     "output_type": "display_data"
    }
   ],
   "source": [
    "from sklearn.metrics import roc_curve\n",
    "fpr, tpr, thresholds = roc_curve(y_test, pred_proba) # za y i za predict probabilities i sacuvamo u ova tri parametara\n",
    "plt.plot(fpr, tpr)\n",
    "plt.show()"
   ]
  },
  {
   "cell_type": "code",
   "execution_count": 127,
   "id": "8fe402ea",
   "metadata": {
    "scrolled": true
   },
   "outputs": [
    {
     "data": {
      "text/plain": [
       "0.969629495181348"
      ]
     },
     "execution_count": 127,
     "metadata": {},
     "output_type": "execute_result"
    }
   ],
   "source": [
    "from sklearn.metrics import roc_auc_score\n",
    "roc_auc_score(y_test, pred_proba)"
   ]
  },
  {
   "cell_type": "code",
   "execution_count": 128,
   "id": "5828b452",
   "metadata": {},
   "outputs": [
    {
     "data": {
      "text/plain": [
       "array([[47725,  7116],\n",
       "       [  213, 14893]], dtype=int64)"
      ]
     },
     "execution_count": 128,
     "metadata": {},
     "output_type": "execute_result"
    }
   ],
   "source": [
    "predictions =model_bagging.predict_proba(X_test)[:, 1] >= 0.2\n",
    "confusion_matrix(y_test, predictions)"
   ]
  },
  {
   "cell_type": "code",
   "execution_count": 129,
   "id": "a79e7fb3",
   "metadata": {},
   "outputs": [
    {
     "data": {
      "text/plain": [
       "array([[   0, 7116],\n",
       "       [1065,    0]], dtype=int64)"
      ]
     },
     "execution_count": 129,
     "metadata": {},
     "output_type": "execute_result"
    }
   ],
   "source": [
    "confusion_matrix(y_test,predictions)* costs"
   ]
  },
  {
   "cell_type": "code",
   "execution_count": 130,
   "id": "d86ca6f6",
   "metadata": {},
   "outputs": [
    {
     "data": {
      "text/plain": [
       "8181"
      ]
     },
     "execution_count": 130,
     "metadata": {},
     "output_type": "execute_result"
    }
   ],
   "source": [
    "(confusion_matrix(y_test,predictions)* costs).sum()"
   ]
  }
 ],
 "metadata": {
  "kernelspec": {
   "display_name": "Python 3 (ipykernel)",
   "language": "python",
   "name": "python3"
  },
  "language_info": {
   "codemirror_mode": {
    "name": "ipython",
    "version": 3
   },
   "file_extension": ".py",
   "mimetype": "text/x-python",
   "name": "python",
   "nbconvert_exporter": "python",
   "pygments_lexer": "ipython3",
   "version": "3.10.1"
  }
 },
 "nbformat": 4,
 "nbformat_minor": 5
}
